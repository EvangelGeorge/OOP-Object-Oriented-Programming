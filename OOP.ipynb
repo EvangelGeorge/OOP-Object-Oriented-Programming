{
 "cells": [
  {
   "cell_type": "markdown",
   "id": "bb0223b6",
   "metadata": {},
   "source": [
    "# OOP - Object-Oriented Programming\n",
    "### This is a programming paradigm that enables the creation of organized and reusable code structures, promoting a more intuitive representation of real-world entities and their interactions."
   ]
  },
  {
   "cell_type": "code",
   "execution_count": 2,
   "id": "2217e38c",
   "metadata": {},
   "outputs": [],
   "source": [
    "class Employee:\n",
    "    salary = 350000"
   ]
  },
  {
   "cell_type": "code",
   "execution_count": 3,
   "id": "21400cf0",
   "metadata": {},
   "outputs": [
    {
     "name": "stdout",
     "output_type": "stream",
     "text": [
      "350000\n"
     ]
    }
   ],
   "source": [
    "kemi = Employee()\n",
    "print(kemi.salary)"
   ]
  },
  {
   "cell_type": "code",
   "execution_count": 4,
   "id": "ab68d57d",
   "metadata": {},
   "outputs": [
    {
     "data": {
      "text/plain": [
       "350000"
      ]
     },
     "execution_count": 4,
     "metadata": {},
     "output_type": "execute_result"
    }
   ],
   "source": [
    "kemi.salary"
   ]
  },
  {
   "cell_type": "code",
   "execution_count": 5,
   "id": "f006cde9",
   "metadata": {},
   "outputs": [],
   "source": [
    "class Employee:\n",
    "    def __init__(self, name, age, salary, position, department, marital_status): # placeholder\n",
    "        self.name = name\n",
    "        self.age = age\n",
    "        self.salary = salary\n",
    "        self.position = position\n",
    "        self.department = department\n",
    "        self.marital_status = marital_status #self age is attribute\n",
    "\n",
    "    def add_age(self):\n",
    "        self.age += 1\n",
    "\n",
    "    def get_age(self):\n",
    "        return \"Age is {}\". format(self.age)"
   ]
  },
  {
   "cell_type": "code",
   "execution_count": 6,
   "id": "635e0e72",
   "metadata": {},
   "outputs": [],
   "source": [
    "staff_1 = Employee(\"Kemi\", 25, 500000, \"Manager\", \"Finance\", \"Married\")"
   ]
  },
  {
   "cell_type": "code",
   "execution_count": 7,
   "id": "b487fd40",
   "metadata": {},
   "outputs": [
    {
     "data": {
      "text/plain": [
       "'Kemi'"
      ]
     },
     "execution_count": 7,
     "metadata": {},
     "output_type": "execute_result"
    }
   ],
   "source": [
    "staff_1.name"
   ]
  },
  {
   "cell_type": "code",
   "execution_count": 8,
   "id": "813075d9",
   "metadata": {},
   "outputs": [
    {
     "data": {
      "text/plain": [
       "25"
      ]
     },
     "execution_count": 8,
     "metadata": {},
     "output_type": "execute_result"
    }
   ],
   "source": [
    "staff_1.age"
   ]
  },
  {
   "cell_type": "code",
   "execution_count": 9,
   "id": "e1c38159",
   "metadata": {},
   "outputs": [],
   "source": [
    "staff_2 = Employee(\"Chris\", 32, 100000, \"Associate\", \"HR\", \"Single\")"
   ]
  },
  {
   "cell_type": "code",
   "execution_count": 10,
   "id": "3caa3f40",
   "metadata": {},
   "outputs": [
    {
     "data": {
      "text/plain": [
       "'Chris'"
      ]
     },
     "execution_count": 10,
     "metadata": {},
     "output_type": "execute_result"
    }
   ],
   "source": [
    "staff_2.name"
   ]
  },
  {
   "cell_type": "code",
   "execution_count": null,
   "id": "984d38d0",
   "metadata": {},
   "outputs": [],
   "source": []
  },
  {
   "cell_type": "markdown",
   "id": "30efb10b",
   "metadata": {},
   "source": [
    "# staff_2.name"
   ]
  },
  {
   "cell_type": "code",
   "execution_count": 11,
   "id": "37d385c6",
   "metadata": {},
   "outputs": [
    {
     "data": {
      "text/plain": [
       "33"
      ]
     },
     "execution_count": 11,
     "metadata": {},
     "output_type": "execute_result"
    }
   ],
   "source": [
    "staff_2.add_age()\n",
    "staff_2.age"
   ]
  },
  {
   "cell_type": "markdown",
   "id": "923b4bc5",
   "metadata": {},
   "source": [
    "#### Encapsalution: Bundling data and methods into a single unit (class) with controlled access."
   ]
  },
  {
   "cell_type": "code",
   "execution_count": 44,
   "id": "20b983fa",
   "metadata": {},
   "outputs": [],
   "source": [
    "class Sports:\n",
    "    def __init__(self):\n",
    "        self.__sportsName = \"Soccer\"\n",
    "        \n",
    "    def game(self):\n",
    "        print(\"The game is: {}\".format(self.__sportsName))\n",
    "        \n",
    "    def change_name(self, name):\n",
    "        self.__sportsName = name"
   ]
  },
  {
   "cell_type": "code",
   "execution_count": 40,
   "id": "e538b771",
   "metadata": {},
   "outputs": [
    {
     "name": "stdout",
     "output_type": "stream",
     "text": [
      "The game is: Soccer\n"
     ]
    }
   ],
   "source": [
    "s = Sports()\n",
    "s.game()"
   ]
  },
  {
   "cell_type": "code",
   "execution_count": 43,
   "id": "87c01aa3",
   "metadata": {},
   "outputs": [
    {
     "name": "stdout",
     "output_type": "stream",
     "text": [
      "The game is: Hockey\n"
     ]
    }
   ],
   "source": [
    "s.change_name('Hockey')\n",
    "s.game()"
   ]
  },
  {
   "cell_type": "markdown",
   "id": "d1d60166",
   "metadata": {},
   "source": [
    "### Inheritance:  Creating new classes based on existing classes to inherit properties and behaviors."
   ]
  },
  {
   "cell_type": "code",
   "execution_count": 1,
   "id": "8e1b3b77",
   "metadata": {},
   "outputs": [],
   "source": [
    "class Animal:\n",
    "    def __init__(self):\n",
    "        print(\"Animal is there\")\n",
    "    def Whatistheclass(self):\n",
    "        print(\"Animal\")\n",
    "    def Run(self):\n",
    "        print(\"Runs in speed\")\n",
    "\n",
    "# this is child class\n",
    "class Lion(Animal):\n",
    "    def __init__(self):\n",
    "        # call super()function\n",
    "        super().__init__()\n",
    "        print(\"Lion is there\")\n",
    "        \n",
    "    def Whatistheclass(self):\n",
    "        print(\"Lion\")\n",
    "        \n",
    "    def run(self):\n",
    "        print(\"Run in speed\")"
   ]
  },
  {
   "cell_type": "code",
   "execution_count": 2,
   "id": "ff758bcf",
   "metadata": {},
   "outputs": [
    {
     "name": "stdout",
     "output_type": "stream",
     "text": [
      "Animal is there\n"
     ]
    }
   ],
   "source": [
    "mammal = Animal()"
   ]
  },
  {
   "cell_type": "code",
   "execution_count": 3,
   "id": "13d8498f",
   "metadata": {},
   "outputs": [
    {
     "name": "stdout",
     "output_type": "stream",
     "text": [
      "Animal\n"
     ]
    }
   ],
   "source": [
    "mammal.Whatistheclass()"
   ]
  },
  {
   "cell_type": "code",
   "execution_count": 5,
   "id": "1c2f12c1",
   "metadata": {},
   "outputs": [
    {
     "name": "stdout",
     "output_type": "stream",
     "text": [
      "Runs in speed\n"
     ]
    }
   ],
   "source": [
    "mammal.Run()"
   ]
  },
  {
   "cell_type": "code",
   "execution_count": 8,
   "id": "bca28f7b",
   "metadata": {},
   "outputs": [
    {
     "name": "stdout",
     "output_type": "stream",
     "text": [
      "Animal is there\n",
      "Lion is there\n"
     ]
    }
   ],
   "source": [
    "yey = Lion() # to create a child a variable has to be created that will be the container that will be used to call the \n",
    "             # variable"
   ]
  },
  {
   "cell_type": "markdown",
   "id": "c88451f9",
   "metadata": {},
   "source": [
    "#### Polymorphism: The same method doing different things for different object."
   ]
  },
  {
   "cell_type": "code",
   "execution_count": 14,
   "id": "36576109",
   "metadata": {},
   "outputs": [],
   "source": [
    "class Lion:\n",
    "    def Roar(self):\n",
    "        print(\"Lion can roar\")\n",
    "    def Bark(self):\n",
    "        print(\"Lion cant bark\")\n",
    "        \n",
    "class Dog:\n",
    "    def Roar(self):\n",
    "        print(\"Dog cant roar\")\n",
    "    def Bark(self):\n",
    "        print(\"Dog can bark\")\n",
    "     "
   ]
  },
  {
   "cell_type": "code",
   "execution_count": 15,
   "id": "2a5456a2",
   "metadata": {},
   "outputs": [],
   "source": [
    "street = Lion()\n",
    "pet = Dog()"
   ]
  },
  {
   "cell_type": "code",
   "execution_count": 16,
   "id": "38ddb008",
   "metadata": {},
   "outputs": [
    {
     "name": "stdout",
     "output_type": "stream",
     "text": [
      "Dog cant roar\n",
      "Lion can roar\n"
     ]
    }
   ],
   "source": [
    "pet.Roar()\n",
    "street.Roar()"
   ]
  },
  {
   "cell_type": "code",
   "execution_count": null,
   "id": "c3b3683c",
   "metadata": {},
   "outputs": [],
   "source": [
    "#### Abstraction:  Focusing on essential characteristics while ignoring irrelevant details."
   ]
  },
  {
   "cell_type": "code",
   "execution_count": 20,
   "id": "7dbba722",
   "metadata": {},
   "outputs": [],
   "source": [
    "class Employee:\n",
    "    def __init__(self, name, address, phone):\n",
    "        self.__name = name\n",
    "        self.__address = address\n",
    "        self.__phone = phone\n",
    "        \n",
    "    def set_name(self,name):\n",
    "        self.__name = name\n",
    "    \n",
    "    def set_address(self, address):\n",
    "        self.__address = address\n",
    "        \n",
    "    def set__phone(self, phone):\n",
    "        self.__phone = phone\n",
    "        \n",
    "    def get_name(self):\n",
    "        return self.__name\n",
    "    \n",
    "    def get_address(self):\n",
    "        return self.__address\n",
    "    \n",
    "    def get_phone(self):\n",
    "        return self.__phone"
   ]
  },
  {
   "cell_type": "code",
   "execution_count": 41,
   "id": "d3bc5728",
   "metadata": {},
   "outputs": [],
   "source": [
    "employees = []"
   ]
  },
  {
   "cell_type": "code",
   "execution_count": 42,
   "id": "98694c83",
   "metadata": {},
   "outputs": [],
   "source": [
    "emp_1 = Employee(\"Kemi\", \"sangotedo\", \"09020293789\")"
   ]
  },
  {
   "cell_type": "code",
   "execution_count": 43,
   "id": "7f66e5dc",
   "metadata": {},
   "outputs": [],
   "source": [
    "emp_2 = Employee(\"Eva\", \"Ikeja\", \"09028564328\")"
   ]
  },
  {
   "cell_type": "code",
   "execution_count": 44,
   "id": "392fbf90",
   "metadata": {},
   "outputs": [],
   "source": [
    "emp_3 = Employee(\"Henry\", \"victoria island\", \"070809590393\")"
   ]
  },
  {
   "cell_type": "code",
   "execution_count": 45,
   "id": "4e310afa",
   "metadata": {},
   "outputs": [],
   "source": [
    "emp_4 = Employee(\"Gift\", \"Ikoyi\", \"080706764839\")"
   ]
  },
  {
   "cell_type": "code",
   "execution_count": 46,
   "id": "81207743",
   "metadata": {},
   "outputs": [],
   "source": [
    "employees.append(emp_1)\n",
    "employees.append(emp_2)\n",
    "employees.append(emp_3)\n",
    "employees.append(emp_4)"
   ]
  },
  {
   "cell_type": "code",
   "execution_count": 47,
   "id": "854de9a4",
   "metadata": {},
   "outputs": [
    {
     "data": {
      "text/plain": [
       "[<__main__.Employee at 0x2a609c47dc0>,\n",
       " <__main__.Employee at 0x2a609a3fac0>,\n",
       " <__main__.Employee at 0x2a609a3fd90>,\n",
       " <__main__.Employee at 0x2a609a3fb80>]"
      ]
     },
     "execution_count": 47,
     "metadata": {},
     "output_type": "execute_result"
    }
   ],
   "source": [
    "employees"
   ]
  },
  {
   "cell_type": "code",
   "execution_count": 49,
   "id": "9216e52a",
   "metadata": {},
   "outputs": [
    {
     "name": "stdout",
     "output_type": "stream",
     "text": [
      "Kemi\n",
      "sangotedo\n",
      "09020293789\n",
      "\n",
      "Eva\n",
      "Ikeja\n",
      "09028564328\n",
      "\n",
      "Henry\n",
      "victoria island\n",
      "070809590393\n",
      "\n",
      "Gift\n",
      "Ikoyi\n",
      "080706764839\n",
      "\n"
     ]
    }
   ],
   "source": [
    "for employee in employees:\n",
    "    print(employee.get_name())\n",
    "    print(employee.get_address())\n",
    "    print(employee.get_phone())\n",
    "    print()\n"
   ]
  },
  {
   "cell_type": "code",
   "execution_count": 1,
   "id": "25429db6",
   "metadata": {},
   "outputs": [],
   "source": [
    "class Cellphone:\n",
    "    # the __init__method initializes the attributes\n",
    "    def __init__(self, manufact, model, price):\n",
    "        self.__manufact = manufact\n",
    "        self.__model = model\n",
    "        self.__retail_price = price\n",
    "        \n",
    "    def set_manufact(self, manufact):\n",
    "        self.__manufact = manufact\n",
    "    \n",
    "    def set_model(self, model):\n",
    "        self.__model = model\n",
    "    \n",
    "    def set_retail_price(self, retail_price):\n",
    "        self.__retail_price = price\n",
    "        \n",
    "    def get_manufact(self):\n",
    "        return self.__manufact\n",
    "    \n",
    "    def get_model(self):\n",
    "        return self.__model\n",
    "    \n",
    "    def get_retail_price(self):\n",
    "        return self.__retail_price\n",
    "    "
   ]
  },
  {
   "cell_type": "code",
   "execution_count": 2,
   "id": "40625bd6",
   "metadata": {},
   "outputs": [],
   "source": [
    "cellphone = []"
   ]
  },
  {
   "cell_type": "code",
   "execution_count": 3,
   "id": "e64a5b95",
   "metadata": {},
   "outputs": [],
   "source": [
    "cell_1 = Cellphone(\"Iphone\", \"2019\", \"700,000\")"
   ]
  },
  {
   "cell_type": "code",
   "execution_count": 4,
   "id": "d03f2c1c",
   "metadata": {},
   "outputs": [],
   "source": [
    "cell_2 = Cellphone(\"techno\", \"2018\", \"340,000\")"
   ]
  },
  {
   "cell_type": "code",
   "execution_count": 46,
   "id": "e4b6ef76",
   "metadata": {},
   "outputs": [],
   "source": [
    "cell_3 = Cellphone(\"infinix\", \"2015\", \"80,000\")"
   ]
  },
  {
   "cell_type": "code",
   "execution_count": 47,
   "id": "43cfeec6",
   "metadata": {},
   "outputs": [],
   "source": [
    "cell_4 = Cellphone(\"blackberry\", \"2008\", \"30,000\")"
   ]
  },
  {
   "cell_type": "code",
   "execution_count": 48,
   "id": "79c83cff",
   "metadata": {},
   "outputs": [],
   "source": [
    "cellphone.append(cell_1)\n",
    "cellphone.append(cell_2)\n",
    "cellphone.append(cell_3)\n",
    "cellphone.append(cell_4)"
   ]
  },
  {
   "cell_type": "code",
   "execution_count": 49,
   "id": "8d345cfb",
   "metadata": {},
   "outputs": [
    {
     "data": {
      "text/plain": [
       "[<__main__.Cellphone at 0x2c21b927fd0>,\n",
       " <__main__.Cellphone at 0x2c21b93b700>,\n",
       " <__main__.Cellphone at 0x2c21bae79a0>,\n",
       " <__main__.Cellphone at 0x2c21bb95730>]"
      ]
     },
     "execution_count": 49,
     "metadata": {},
     "output_type": "execute_result"
    }
   ],
   "source": [
    "cellphone"
   ]
  },
  {
   "cell_type": "code",
   "execution_count": 51,
   "id": "7d4b5c77",
   "metadata": {},
   "outputs": [
    {
     "name": "stdout",
     "output_type": "stream",
     "text": [
      "Iphone\n",
      "2019\n",
      "700,000\n",
      "\n",
      "techno\n",
      "2018\n",
      "340,000\n",
      "\n",
      "infinix\n",
      "2015\n",
      "80,000\n",
      "\n",
      "blackberry\n",
      "2008\n",
      "30,000\n",
      "\n"
     ]
    }
   ],
   "source": [
    "for cellphone in cellphone:\n",
    "    print(cellphone.get_manufact())\n",
    "    print(cellphone.get_model())\n",
    "    print(cellphone.get_retail_price())\n",
    "    print()"
   ]
  },
  {
   "cell_type": "markdown",
   "id": "77c9036a",
   "metadata": {},
   "source": [
    "### Example of Inheritance and Encapsalution"
   ]
  },
  {
   "cell_type": "code",
   "execution_count": 19,
   "id": "d64ecd0a",
   "metadata": {},
   "outputs": [],
   "source": [
    "class Automobile:\n",
    "    def __init__(self, make, model, mileage, price):\n",
    "        self.__make = make\n",
    "        self.__model = model\n",
    "        self.__mileage = mileage\n",
    "        self.__price = price\n",
    "        \n",
    "    def set_make(self, make):\n",
    "        self.__make = make\n",
    "        \n",
    "    def set_model(self, model):\n",
    "        self.__model = model\n",
    "        \n",
    "    def set_mileage(self, mileage):\n",
    "        self.__mileage = mileage \n",
    "        \n",
    "    def set_price(self, price):\n",
    "        self.__price = price\n",
    "        \n",
    "    def get_make(self):\n",
    "        return self.__make\n",
    "    \n",
    "    def get_model(self):\n",
    "        return self.__model\n",
    "    \n",
    "    def get_mileage(self):\n",
    "        return self.__mileage\n",
    "    \n",
    "    def get_price(self):\n",
    "        return self.__price\n",
    "    \n",
    "    "
   ]
  },
  {
   "cell_type": "markdown",
   "id": "7f942476",
   "metadata": {},
   "source": [
    "### Child Car class"
   ]
  },
  {
   "cell_type": "code",
   "execution_count": 89,
   "id": "9fe3222e",
   "metadata": {},
   "outputs": [],
   "source": [
    "class Car(Automobile):\n",
    "    def __init__(self, make, model, mileage, price, doors):\n",
    "        super().__init__(make, model, mileage, price)\n",
    "        self.__doors = doors\n",
    "        \n",
    "    def set_doors(self, doors):\n",
    "        self.__doors = doors\n",
    "    \n",
    "         \n",
    "    def get_doors(self):\n",
    "        return self.__doors"
   ]
  },
  {
   "cell_type": "markdown",
   "id": "6c895103",
   "metadata": {},
   "source": [
    "### Child Truck class"
   ]
  },
  {
   "cell_type": "code",
   "execution_count": 90,
   "id": "8cc6e871",
   "metadata": {},
   "outputs": [],
   "source": [
    "class Truck(Automobile):\n",
    "    def __init__(self, make, model, mileage, price, drive_type):\n",
    "        super().__init__(make, model, mileage, price)\n",
    "        self.__drive_type = drive_type\n",
    "        \n",
    "    def set_drive_type(self, drive_type):\n",
    "        self.__drive_type = drive_type\n",
    "    \n",
    "         \n",
    "    def get_drive_type(self):\n",
    "        return self.__drive_type"
   ]
  },
  {
   "cell_type": "markdown",
   "id": "c4978ce3",
   "metadata": {},
   "source": [
    "### Child SUV class"
   ]
  },
  {
   "cell_type": "code",
   "execution_count": 91,
   "id": "a0400471",
   "metadata": {},
   "outputs": [],
   "source": [
    "class SUV(Automobile):\n",
    "    def __init__(self, make, model, mileage, price, pass_cap):\n",
    "        super().__init__(make, model, mileage, price)\n",
    "        self.__pass_cap = pass_cap\n",
    "        \n",
    "    def set_pass_cap(self, pass_cap):\n",
    "        self.__pass_cap = pass_cap\n",
    "    \n",
    "         \n",
    "    def get_pass_cap(self):\n",
    "        return self.__pass_cap"
   ]
  },
  {
   "cell_type": "code",
   "execution_count": 93,
   "id": "809bdcb1",
   "metadata": {},
   "outputs": [],
   "source": [
    "auto = Automobile(\"Benz\", 2022, 1000, 12000000)"
   ]
  },
  {
   "cell_type": "code",
   "execution_count": 94,
   "id": "96e79cf7",
   "metadata": {},
   "outputs": [],
   "source": [
    "car = Car(\"BMW\", 2021, 70000, 11500000.0, 4)"
   ]
  },
  {
   "cell_type": "code",
   "execution_count": 95,
   "id": "fcf1066a",
   "metadata": {},
   "outputs": [],
   "source": [
    "truck = Truck(\"Toyota\", 2022, 40000, 12000000, '4WD')"
   ]
  },
  {
   "cell_type": "code",
   "execution_count": 96,
   "id": "ba63fb21",
   "metadata": {},
   "outputs": [],
   "source": [
    "suv = SUV(\"Volvo\", 2019, 30000, 18500000.0, 5)"
   ]
  },
  {
   "cell_type": "code",
   "execution_count": null,
   "id": "8f4d0c0d",
   "metadata": {},
   "outputs": [],
   "source": [
    "print('Used car inventory')\n",
    "print('==================')\n",
    "print('The following car is in inventory')"
   ]
  }
 ],
 "metadata": {
  "kernelspec": {
   "display_name": "Python 3 (ipykernel)",
   "language": "python",
   "name": "python3"
  },
  "language_info": {
   "codemirror_mode": {
    "name": "ipython",
    "version": 3
   },
   "file_extension": ".py",
   "mimetype": "text/x-python",
   "name": "python",
   "nbconvert_exporter": "python",
   "pygments_lexer": "ipython3",
   "version": "3.9.12"
  }
 },
 "nbformat": 4,
 "nbformat_minor": 5
}
